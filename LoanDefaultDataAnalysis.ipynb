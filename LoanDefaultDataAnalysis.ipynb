{
 "cells": [
  {
   "cell_type": "markdown",
   "metadata": {},
   "source": [
    "# Aims and objectives"
   ]
  },
  {
   "cell_type": "markdown",
   "metadata": {},
   "source": [
    "## Context"
   ]
  },
  {
   "cell_type": "markdown",
   "metadata": {},
   "source": [
    "A loan default occurs when a borrower fails to make necessary payments on their debt. We want to investigate the factors that contribute to a borrower being unable to pay back their loan. We will use these findings to help determine whether to approve future borrowers."
   ]
  },
  {
   "cell_type": "markdown",
   "metadata": {},
   "source": [
    "## Aims"
   ]
  },
  {
   "cell_type": "markdown",
   "metadata": {},
   "source": [
<<<<<<< HEAD
    "We wish to analyse 100 loans to ascertain characteristics of borrowers, and observe any patterns and trends which may be indicative of a borrower being unable to pay back thier loan. We then wish to define a borrower by a set of characteristics, and a loan by a series of control variables. Our target variable is the outcome of the borrower being able to repay the loan. \n",
    "\n",
    "Upon the borrower selection process, we wish to minimise the factors which correlate with a borrower being unable to repay the loan. We will also identify and optimise control variables which can minimise risk, proportional to the properties of the borrower's affordability profile."
   ]
  },
  {
   "cell_type": "markdown",
   "metadata": {},
   "source": [
=======
>>>>>>> refs/remotes/origin/main
    "## Objectives"
   ]
  },
  {
   "cell_type": "markdown",
   "metadata": {},
   "source": [
    "1. What makes a good borrower versus a bad one?\n",
    "2. What control variables can we manipluate to reduce defaulting?\n",
    "3. Which are the most important factors for rejecting a borrower?"
   ]
  },
  {
   "cell_type": "markdown",
   "metadata": {},
   "source": [
    "## Data dictionary"
   ]
  },
  {
   "cell_type": "markdown",
   "metadata": {},
   "source": [
    "# Extract, transform and load"
   ]
  },
  {
   "cell_type": "markdown",
   "metadata": {},
   "source": [
<<<<<<< HEAD
    "# Extract, transform and load"
=======
    "# Exploratory data analysis"
>>>>>>> refs/remotes/origin/main
   ]
  },
  {
   "cell_type": "markdown",
   "metadata": {},
   "source": [
<<<<<<< HEAD
    "# Exploratory data analysis"
=======
    "# Insights analysis"
>>>>>>> refs/remotes/origin/main
   ]
  },
  {
   "cell_type": "markdown",
   "metadata": {},
   "source": [
<<<<<<< HEAD
    "# Insights analysis"
   ]
  },
  {
   "cell_type": "markdown",
   "metadata": {},
   "source": [
=======
>>>>>>> refs/remotes/origin/main
    "# Discussion"
   ]
  }
 ],
 "metadata": {
  "kernelspec": {
   "display_name": "Python 3",
   "language": "python",
   "name": "python3"
  },
  "language_info": {
   "codemirror_mode": {
    "name": "ipython",
    "version": 3
   },
   "file_extension": ".py",
   "mimetype": "text/x-python",
   "name": "python",
   "nbconvert_exporter": "python",
   "pygments_lexer": "ipython3",
   "version": "3.12.4"
  }
 },
 "nbformat": 4,
 "nbformat_minor": 2
}
